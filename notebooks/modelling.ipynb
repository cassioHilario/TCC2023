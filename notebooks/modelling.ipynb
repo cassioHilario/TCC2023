{
  "cells": [
    {
      "cell_type": "markdown",
      "metadata": {
        "id": "view-in-github",
        "colab_type": "text"
      },
      "source": [
        "<a href=\"https://colab.research.google.com/github/cassioHilario/TCC2023/blob/main/notebooks/modelling.ipynb\" target=\"_parent\"><img src=\"https://colab.research.google.com/assets/colab-badge.svg\" alt=\"Open In Colab\"/></a>"
      ]
    },
    {
      "cell_type": "code",
      "source": [
        "from google.colab import drive\n",
        "drive.mount('/content/drive')"
      ],
      "metadata": {
        "id": "XhZd07EcDTZc"
      },
      "execution_count": null,
      "outputs": []
    },
    {
      "cell_type": "code",
      "execution_count": null,
      "metadata": {
        "id": "o5fipeV7x6GZ"
      },
      "outputs": [],
      "source": [
        "import pandas as pd\n",
        "import pickle\n",
        "import nltk\n",
        "import matplotlib.pyplot as plt\n",
        "import sklearn\n",
        "import seaborn as sns"
      ]
    },
    {
      "cell_type": "code",
      "execution_count": null,
      "metadata": {
        "id": "h4gzP6xux6Gb"
      },
      "outputs": [],
      "source": [
        "from sklearn.model_selection import train_test_split\n",
        "from sklearn.feature_extraction.text import TfidfVectorizer\n",
        "from sklearn.naive_bayes import MultinomialNB\n",
        "from sklearn.metrics import classification_report, confusion_matrix, roc_curve, auc\n",
        "from sklearn.preprocessing import label_binarize\n",
        "from sklearn.metrics import precision_recall_curve\n",
        "from sklearn.metrics import average_precision_score\n",
        "from sklearn.metrics import accuracy_score\n"
      ]
    },
    {
      "cell_type": "code",
      "source": [
        "# Carregando os dados pré-processados\n",
        "df = pd.read_csv('../base/amostra_base_v4.1.csv')\n",
        "\n",
        "print(df['frase'][:5])"
      ],
      "metadata": {
        "id": "QuXcs_OH0d-s"
      },
      "execution_count": null,
      "outputs": []
    },
    {
      "cell_type": "code",
      "execution_count": null,
      "metadata": {
        "id": "Hqkn53oLx6Gc"
      },
      "outputs": [],
      "source": [
        "\n",
        "frases_tokenizadas = df[\"frase\"]\n",
        "labels = df['label']\n",
        "\n",
        "\n",
        "print(frases_tokenizadas[:5])\n",
        "print(labels[:5])\n"
      ]
    },
    {
      "cell_type": "code",
      "source": [
        "# Dividindo os dados em conjuntos de treinamento e teste\n",
        "X_train, X_test, y_train, y_test = train_test_split(frases_tokenizadas, labels, test_size=0.3, random_state=42)"
      ],
      "metadata": {
        "id": "WdQG-Ks80A_e"
      },
      "execution_count": null,
      "outputs": []
    },
    {
      "cell_type": "code",
      "execution_count": null,
      "metadata": {
        "id": "d134L3-9x6Gc"
      },
      "outputs": [],
      "source": [
        "\n",
        "# Vetorização das frases usando TF-IDF\n",
        "tfidf_vectorizer = TfidfVectorizer()\n",
        "X_train_tfidf = tfidf_vectorizer.fit_transform(X_train)\n",
        "X_test_tfidf = tfidf_vectorizer.transform(X_test)\n",
        "\n",
        "# Treinando o modelo Naive Bayes\n",
        "clf = MultinomialNB()\n",
        "clf.fit(X_train_tfidf, y_train)\n"
      ]
    },
    {
      "cell_type": "code",
      "execution_count": null,
      "metadata": {
        "id": "xqaCYjjmx6Gd"
      },
      "outputs": [],
      "source": [
        "\n",
        "# Fazendo previsões\n",
        "y_pred = clf.predict(X_test_tfidf)\n",
        "\n",
        "# Calculando métricas de avaliação\n",
        "classification_rep = classification_report(y_test, y_pred)\n",
        "confusion = confusion_matrix(y_test, y_pred)\n",
        "accuracy = accuracy_score(y_test, y_pred)\n",
        "\n",
        "print(\"Accuracy:\", accuracy)\n",
        "print(\"Classification Report:\\n\", classification_rep)\n",
        "print(\"Confusion Matrix:\\n\", confusion)\n"
      ]
    },
    {
      "cell_type": "code",
      "source": [
        "sns.heatmap(confusion, annot=True, fmt='d', cmap='Blues')\n",
        "plt.title(\"Confusion Matrix\")\n",
        "plt.xlabel(\"Predicted Class\")\n",
        "plt.ylabel(\"True Class\")\n",
        "plt.show()"
      ],
      "metadata": {
        "id": "ruAazbBn5k_I"
      },
      "execution_count": null,
      "outputs": []
    },
    {
      "cell_type": "code",
      "source": [
        "plt.bar(['Accuracy'], [accuracy])\n",
        "plt.ylabel('Score')\n",
        "plt.title('Accuracy')\n",
        "plt.show()"
      ],
      "metadata": {
        "id": "OEdNDoih5n2v"
      },
      "execution_count": null,
      "outputs": []
    },
    {
      "cell_type": "code",
      "execution_count": null,
      "metadata": {
        "id": "7KQEHLESx6Gd"
      },
      "outputs": [],
      "source": [
        "\n",
        "# Plotando a curva ROC (somente se for um problema de classificação binária)\n",
        "if len(set(y_test)) == 2:\n",
        "    y_test_bin = label_binarize(y_test, classes=[0, 1])\n",
        "    fpr, tpr, _ = roc_curve(y_test_bin, clf.predict_proba(X_test_tfidf)[:, 1])\n",
        "    roc_auc = auc(fpr, tpr)\n",
        "\n",
        "    plt.figure()\n",
        "    plt.plot(fpr, tpr, color='darkorange', lw=2, label='ROC curve (area = %0.2f)' % roc_auc)\n",
        "    plt.plot([0, 1], [0, 1], color='navy', lw=2, linestyle='--')\n",
        "    plt.xlim([0.0, 1.0])\n",
        "    plt.ylim([0.0, 1.05])\n",
        "    plt.xlabel('False Positive Rate')\n",
        "    plt.ylabel('True Positive Rate')\n",
        "    plt.title('Receiver Operating Characteristic')\n",
        "    plt.legend(loc=\"lower right\")\n",
        "    plt.show()\n"
      ]
    },
    {
      "cell_type": "code",
      "execution_count": null,
      "metadata": {
        "id": "zwRcC6gdx6Gd"
      },
      "outputs": [],
      "source": [
        "\n",
        "# Plotando a curva Precision-Recall (somente se for um problema de classificação binária)\n",
        "if len(set(y_test)) == 2:\n",
        "    precision, recall, _ = precision_recall_curve(y_test_bin, clf.predict_proba(X_test_tfidf)[:, 1])\n",
        "    average_precision = average_precision_score(y_test, clf.predict(X_test_tfidf))\n",
        "\n",
        "    plt.figure()\n",
        "    plt.step(recall, precision, color='b', alpha=0.2, where='post')\n",
        "    plt.fill_between(recall, precision, alpha=0.2, color='b')\n",
        "    plt.xlabel('Recall')\n",
        "    plt.ylabel('Precision')\n",
        "    plt.ylim([0.0, 1.05])\n",
        "    plt.xlim([0.0, 1.0])\n",
        "    plt.title('Precision-Recall curve: AP={0:0.2f}'.format(average_precision))\n",
        "    plt.show()\n"
      ]
    }
  ],
  "metadata": {
    "kernelspec": {
      "display_name": "tf-gpu-cuda112",
      "language": "python",
      "name": "python3"
    },
    "language_info": {
      "codemirror_mode": {
        "name": "ipython",
        "version": 3
      },
      "file_extension": ".py",
      "mimetype": "text/x-python",
      "name": "python",
      "nbconvert_exporter": "python",
      "pygments_lexer": "ipython3",
      "version": "3.8.18"
    },
    "colab": {
      "provenance": [],
      "include_colab_link": true
    }
  },
  "nbformat": 4,
  "nbformat_minor": 0
}