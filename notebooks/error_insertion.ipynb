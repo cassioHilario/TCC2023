{
 "cells": [
  {
   "cell_type": "code",
   "execution_count": 38,
   "metadata": {},
   "outputs": [],
   "source": [
    "import os\n",
    "import re\n",
    "import random"
   ]
  },
  {
   "cell_type": "code",
   "execution_count": 39,
   "metadata": {},
   "outputs": [],
   "source": [
    "from spacy.tokens import Doc\n",
    "from spacy.vocab import Vocab\n",
    "from spacy.matcher import Matcher"
   ]
  },
  {
   "cell_type": "code",
   "execution_count": 40,
   "metadata": {},
   "outputs": [],
   "source": [
    "spacy.prefer_gpu()\n",
    "\n",
    "nlp = spacy.load(\"pt_core_news_lg\")"
   ]
  },
  {
   "cell_type": "code",
   "execution_count": 41,
   "metadata": {},
   "outputs": [],
   "source": [
    "#arquivo_sem_erro = '../Base/data.v2/amostra_base_sem erros.txt'\n",
    "#v3 = '../Base/data.v3/amostra_base_v3.txt'\n",
    "arquivo_sem_erro = './tres_ultimas_linhas.txt'\n",
    "v3 = './com_erros.txt'"
   ]
  },
  {
   "cell_type": "code",
   "execution_count": 42,
   "metadata": {},
   "outputs": [
    {
     "name": "stdout",
     "output_type": "stream",
     "text": [
      "16 8 8 ['O cachorro é doméstico.\\n', 'O carro bonito.\\n', 'O professor está doente.\\n', 'As frutas são saudáveis.\\n', 'O homem é alto.\\n']\n"
     ]
    }
   ],
   "source": [
    "conteudo = open(arquivo_sem_erro, 'r', encoding='utf-8').readlines()\n",
    "total_linhas = int(len(conteudo)*0.5)\n",
    "indices_selecionados = random.sample(range(0, len(conteudo)-1), total_linhas)\n",
    "print (len(conteudo), total_linhas, len(indices_selecionados), conteudo[0:5])"
   ]
  },
  {
   "cell_type": "code",
   "execution_count": 43,
   "metadata": {},
   "outputs": [],
   "source": [
    "def posses(doc):\n",
    "    posses_list = []\n",
    "    for token in doc:\n",
    "        if str(token.pos_) == \"ADJ\" or str(token.pos_) == \"NOUN\" or str(token.pos_) == \"DET\" or str(token.pos_) == \"PRON\":\n",
    "            if str(token.pos_) not in posses_list:\n",
    "                posses_list.append(str(token.pos_))\n",
    "    return posses_list"
   ]
  },
  {
   "cell_type": "code",
   "execution_count": 44,
   "metadata": {},
   "outputs": [],
   "source": [
    "def changeGender(token):\n",
    "    try:\n",
    "        if str(token.morph.get('Gender')[0]) == 'Masc':\n",
    "            if token.text.endswith('o'):\n",
    "                return token.text[:-1] + 'a'\n",
    "            elif token.text.endswith('or'):\n",
    "                return token.text[:-2] + 'ora'\n",
    "            elif token.text.endswith('ão'):\n",
    "                return token.text[:-2] + 'ã'\n",
    "            elif token.text.endswith('ês'):\n",
    "                return token.text[:-2] + 'esa'\n",
    "            elif token.text.endswith('r'):\n",
    "                return token.text + 'a'\n",
    "            elif token.text.endswith('l'):\n",
    "                return token.text + 'a'\n",
    "            elif token.text.endswith('z'):\n",
    "                return token.text + 'a'\n",
    "            elif token.text.endswith('e'):\n",
    "                return token.text + 'a'\n",
    "        elif str(token.morph.get('Gender')[0]) == 'Fem':\n",
    "            if token.text.endswith('a'):\n",
    "                return token.text[:-1] + 'o'\n",
    "            elif token.text.endswith('ora'):\n",
    "                return token.text[:-1]\n",
    "            elif token.text.endswith('ã'):\n",
    "                return token.text + 'o'\n",
    "            elif token.text.endswith('esa'):\n",
    "                return token.text[:-1] + 'o'\n",
    "            elif token.text.endswith('r'):\n",
    "                return token.text[:-1] + 'or'\n",
    "            elif token.text.endswith('l'):\n",
    "                return token.text[:-1] + 'or'\n",
    "            elif token.text.endswith('z'):\n",
    "                return token.text[:-1] + 'or'\n",
    "            elif token.text.endswith('e'):\n",
    "                return token.text[:-1] + 'or'\n",
    "    except:\n",
    "        print('Erro: ', token.text)\n",
    "    return token.text"
   ]
  },
  {
   "cell_type": "code",
   "execution_count": 45,
   "metadata": {},
   "outputs": [],
   "source": [
    "def changeNumber(token):\n",
    "    try:\n",
    "        if str(token.morph.get('Number')[0]) == 'Sing':\n",
    "            if token.text.endswith('s'):\n",
    "                return token.text[:-1]\n",
    "            elif token.text.endswith('ão'):\n",
    "                return token.text[:-2] + 'ões'\n",
    "            elif token.text.endswith('ês'):\n",
    "                return token.text[:-2] + 'eses'\n",
    "            elif token.text.endswith('l'):\n",
    "                return token.text + 's'\n",
    "            elif token.text.endswith('r'):\n",
    "                return token.text + 'es'\n",
    "            elif token.text.endswith('z'):\n",
    "                return token.text + 'es'\n",
    "            elif token.text.endswith('m'):\n",
    "                return token.text[:-1] + 'ns'\n",
    "            else:\n",
    "                return token.text + 's'\n",
    "        elif str(token.morph.get('Number')[0]) == 'Plur':\n",
    "            if token.text.endswith('s'):\n",
    "                return token.text + 'es'\n",
    "            elif token.text.endswith('ão'):\n",
    "                return token.text[:-2] + 'ões'\n",
    "            elif token.text.endswith('ês'):\n",
    "                return token.text[:-2] + 'eses'\n",
    "            elif token.text.endswith('l'):\n",
    "                return token.text + 'es'\n",
    "            elif token.text.endswith('r'):\n",
    "                return token.text + 'es'\n",
    "            elif token.text.endswith('z'):\n",
    "                return token.text + 'es'\n",
    "            elif token.text.endswith('m'):\n",
    "                return token.text[:-1] + 'ns'\n",
    "            else:\n",
    "                return token.text + 's'\n",
    "    except:\n",
    "        print('Erro: ', token.text)\n",
    "    return token.text"
   ]
  },
  {
   "cell_type": "code",
   "execution_count": 46,
   "metadata": {},
   "outputs": [],
   "source": [
    "def changeWord(token):\n",
    "    which = random.randint(0, 1)\n",
    "    if str(token.pos_) == \"NOUN\" or str(token.pos_) == \"PRON\" or str(token.pos_) == \"DET\" or str(token.pos_) == \"ADJ\":\n",
    "        if which == 0:\n",
    "            return changeGender(token)\n",
    "        else:\n",
    "            return changeNumber(token)\n",
    "    return token.text"
   ]
  },
  {
   "cell_type": "code",
   "execution_count": 47,
   "metadata": {},
   "outputs": [],
   "source": [
    "def pick_and_remove(lst):\n",
    "    index = random.randint(0, len(lst) - 1)\n",
    "    picked_string = lst[index]\n",
    "    lst.remove(picked_string)\n",
    "    return picked_string"
   ]
  },
  {
   "cell_type": "code",
   "execution_count": 48,
   "metadata": {},
   "outputs": [],
   "source": [
    "def insert_error(text):\n",
    "    doc = nlp(text)\n",
    "    posses_list = posses(doc)\n",
    "    num_erros = random.randint(1, len(posses_list))\n",
    "    words = []\n",
    "    for i in range(num_erros):\n",
    "        pos = pick_and_remove(posses_list)\n",
    "        for token in doc:\n",
    "            word = token.text\n",
    "            if str(token.pos_) == pos:\n",
    "                word = changeWord(token)\n",
    "            if len(words) <= token.i:\n",
    "                words.append(word)\n",
    "            else:\n",
    "                words[token.i] = word\n",
    "    return Doc(doc.vocab, words=words)"
   ]
  },
  {
   "cell_type": "code",
   "execution_count": 49,
   "metadata": {},
   "outputs": [
    {
     "name": "stdout",
     "output_type": "stream",
     "text": [
      "Iniciando inserção de erros...\n",
      "Total de linhas: 16\n"
     ]
    },
    {
     "name": "stdout",
     "output_type": "stream",
     "text": [
      "oi\n",
      "1 já foram inseridos e 0 linhas normais foram copiadas. faltam 15 linhas.\n",
      "1 já foram inseridos e 1 linhas normais foram copiadas. faltam 14 linhas.\n",
      "oi\n",
      "2 já foram inseridos e 1 linhas normais foram copiadas. faltam 13 linhas.\n",
      "2 já foram inseridos e 2 linhas normais foram copiadas. faltam 12 linhas.\n",
      "2 já foram inseridos e 3 linhas normais foram copiadas. faltam 11 linhas.\n",
      "2 já foram inseridos e 4 linhas normais foram copiadas. faltam 10 linhas.\n",
      "oi\n",
      "3 já foram inseridos e 4 linhas normais foram copiadas. faltam 9 linhas.\n",
      "3 já foram inseridos e 5 linhas normais foram copiadas. faltam 8 linhas.\n",
      "oi\n",
      "4 já foram inseridos e 5 linhas normais foram copiadas. faltam 7 linhas.\n",
      "oi\n",
      "5 já foram inseridos e 5 linhas normais foram copiadas. faltam 6 linhas.\n",
      "oi\n",
      "6 já foram inseridos e 5 linhas normais foram copiadas. faltam 5 linhas.\n",
      "oi\n",
      "7 já foram inseridos e 5 linhas normais foram copiadas. faltam 4 linhas.\n",
      "7 já foram inseridos e 6 linhas normais foram copiadas. faltam 3 linhas.\n",
      "7 já foram inseridos e 7 linhas normais foram copiadas. faltam 2 linhas.\n",
      "oi\n",
      "8 já foram inseridos e 7 linhas normais foram copiadas. faltam 1 linhas.\n",
      "8 já foram inseridos e 8 linhas normais foram copiadas. faltam 0 linhas.\n"
     ]
    }
   ],
   "source": [
    "novo_conteudo = []\n",
    "msg = 'Iniciando inserção de erros...'\n",
    "print(msg)\n",
    "msg = 'Total de linhas: ' + str(len(conteudo))\n",
    "print(msg)\n",
    "erros = 0\n",
    "normais = 0\n",
    "for index, linha in enumerate(conteudo):\n",
    "    if index not in indices_selecionados:\n",
    "        novo_conteudo.append(linha)\n",
    "        normais += 1\n",
    "    else:\n",
    "        novo_conteudo.append(insert_error(linha).text)\n",
    "        print(\"oi\")\n",
    "        erros += 1\n",
    "    print(f'{erros} já foram inseridos e {normais} linhas normais foram copiadas. faltam {len(conteudo) - (erros + normais)} linhas.')"
   ]
  },
  {
   "cell_type": "code",
   "execution_count": 50,
   "metadata": {},
   "outputs": [],
   "source": [
    "with open(v3, 'w', encoding='utf-8') as f:\n",
    "    f.writelines(novo_conteudo)"
   ]
  }
 ],
 "metadata": {
  "kernelspec": {
   "display_name": "tcc",
   "language": "python",
   "name": "python3"
  },
  "language_info": {
   "codemirror_mode": {
    "name": "ipython",
    "version": 3
   },
   "file_extension": ".py",
   "mimetype": "text/x-python",
   "name": "python",
   "nbconvert_exporter": "python",
   "pygments_lexer": "ipython3",
   "version": "3.8.18"
  }
 },
 "nbformat": 4,
 "nbformat_minor": 2
}
